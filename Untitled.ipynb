{
 "cells": [
  {
   "cell_type": "code",
   "execution_count": 1,
   "metadata": {
    "collapsed": true
   },
   "outputs": [],
   "source": [
    "import pandas as pd"
   ]
  },
  {
   "cell_type": "code",
   "execution_count": 2,
   "metadata": {
    "collapsed": true
   },
   "outputs": [],
   "source": [
    "datauji = pd.read_csv('test.csv')"
   ]
  },
  {
   "cell_type": "markdown",
   "metadata": {},
   "source": [
    "menampilkan data test"
   ]
  },
  {
   "cell_type": "markdown",
   "metadata": {},
   "source": [
    "\n",
    "    Heroes yang memiliki movementSpeed >= 270, akan mendapat peran sebagai MARKSMAN (huruf kapital semua)\n",
    "    Heroes dengan mana >= 500, akan mendapat peran sebagai MAGE (huruf kapital semua)\n",
    "    Heroes dengan armor >= 25, akan mendapat peran sebagai TANK (huruf kapital semua)\n",
    "    Heroes dengan physicalAttack >= 121, akan mendapat peran sebagai ASSASSIN (huruf kapital semua)\n",
    "    Heroes dengan hp >= 2580, akan mendapat peran sebagai FIGHTER (huruf kapital semua)\n",
    "    Heroes lainnya akan mendapat peran sebagai SUPPORT (huruf kapital semua)\n"
   ]
  },
  {
   "cell_type": "code",
   "execution_count": 4,
   "metadata": {},
   "outputs": [],
   "source": [
    "role = []\n",
    "for i in range(len(datauji)):\n",
    "    if datauji[\"movementSpeed\"][i]>=270:\n",
    "        role.append(\"MARKSMAN\")\n",
    "    elif datauji[\"mana\"][i]>=500:\n",
    "        role.append(\"MAGE\")\n",
    "    elif datauji[\"armor\"][i]>=25:\n",
    "        role.append(\"TANK\")\n",
    "    elif datauji[\"physicalAttack\"][i]>=121:\n",
    "        role.append(\"ASSASSIN\")\n",
    "    elif datauji[\"hp\"][i]>=2580:\n",
    "        role.append(\"FIGHTER\")\n",
    "    else:\n",
    "        role.append(\"SUPPORT\")"
   ]
  },
  {
   "cell_type": "code",
   "execution_count": 5,
   "metadata": {
    "collapsed": true
   },
   "outputs": [],
   "source": [
    "hasil = pd.DataFrame({\n",
    "    \"name\" : datauji[\"name\"],\n",
    "    \"role\" : role\n",
    "})"
   ]
  },
  {
   "cell_type": "code",
   "execution_count": 6,
   "metadata": {
    "collapsed": true
   },
   "outputs": [],
   "source": [
    "hasil.to_csv('prediction.csv', index = False)"
   ]
  },
  {
   "cell_type": "code",
   "execution_count": null,
   "metadata": {
    "collapsed": true
   },
   "outputs": [],
   "source": []
  }
 ],
 "metadata": {
  "kernelspec": {
   "display_name": "Python 3",
   "language": "python",
   "name": "python3"
  },
  "language_info": {
   "codemirror_mode": {
    "name": "ipython",
    "version": 3
   },
   "file_extension": ".py",
   "mimetype": "text/x-python",
   "name": "python",
   "nbconvert_exporter": "python",
   "pygments_lexer": "ipython3",
   "version": "3.6.3"
  }
 },
 "nbformat": 4,
 "nbformat_minor": 2
}
